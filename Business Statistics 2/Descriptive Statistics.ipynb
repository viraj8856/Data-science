{
 "cells": [
  {
   "cell_type": "markdown",
   "id": "474eee1c",
   "metadata": {},
   "source": [
    "# \tLook at the data given below. Plot the data, find the outliers and find out  μ,σ,σ^2"
   ]
  },
  {
   "cell_type": "code",
   "execution_count": 1,
   "id": "153fefd9",
   "metadata": {},
   "outputs": [],
   "source": [
    "import pandas as pd\n",
    "import seaborn as sns \n",
    "import matplotlib.pyplot as plt \n",
    "import numpy as np\n",
    "import warnings \n",
    "warnings.filterwarnings('ignore')"
   ]
  },
  {
   "cell_type": "code",
   "execution_count": 2,
   "id": "3bfb7d0f",
   "metadata": {},
   "outputs": [],
   "source": [
    "Name_of_Company = ['Allied Signal',\n",
    "'Bankers Trust',\n",
    "'General Mills',\n",
    "'ITT Industries',\n",
    "'J.P.Morgan & Co.',\n",
    "'Lehman Brothers',\n",
    "'Marriott',\n",
    "'MCI',\n",
    "'Merrill Lynch',\n",
    "'Microsoft',\n",
    "'Morgan Stanley',\n",
    "'Sun Microsystems',\n",
    "'Travelers',\n",
    "'US Airways',\n",
    "'Warner-Lambert'\n",
    "] "
   ]
  },
  {
   "cell_type": "code",
   "execution_count": 3,
   "id": "7b222354",
   "metadata": {},
   "outputs": [],
   "source": [
    "Measure_X =pd.Series([\n",
    "24.23,\n",
    "25.53,\n",
    "25.41,\n",
    "24.14,\n",
    "29.62,\n",
    "28.25,\n",
    "25.81,\n",
    "24.39,\n",
    "40.26,\n",
    "32.95,\n",
    "91.36,\n",
    "25.99,\n",
    "39.42,\n",
    "26.71,\n",
    "35.00\n",
    "])    \n"
   ]
  },
  {
   "cell_type": "code",
   "execution_count": 4,
   "id": "4619dc99",
   "metadata": {},
   "outputs": [],
   "source": [
    "plt.figure(figsize=(7,10))\n",
    "plt.pie(x=Measure_X,labels=Name_of_Company,autopct='%1.0f%%')\n",
    "plt.show()"
   ]
  },
  {
   "cell_type": "code",
   "execution_count": 5,
   "id": "7cfb9805",
   "metadata": {},
   "outputs": [],
   "source": [
    "sns.boxplot(Measure_X)"
   ]
  },
  {
   "cell_type": "code",
   "execution_count": 6,
   "id": "cdbd6e6d",
   "metadata": {},
   "outputs": [],
   "source": [
    "Measure_X.mean()"
   ]
  },
  {
   "cell_type": "code",
   "execution_count": 7,
   "id": "fb7fee61",
   "metadata": {},
   "outputs": [],
   "source": [
    "Measure_X.var()"
   ]
  },
  {
   "cell_type": "code",
   "execution_count": 8,
   "id": "53931396",
   "metadata": {},
   "outputs": [],
   "source": [
    "Measure_X.std()"
   ]
  },
  {
   "cell_type": "code",
   "execution_count": null,
   "id": "2479af85",
   "metadata": {},
   "outputs": [],
   "source": []
  }
 ],
 "metadata": {
  "kernelspec": {
   "display_name": "Python 3 (ipykernel)",
   "language": "python",
   "name": "python3"
  },
  "language_info": {
   "codemirror_mode": {
    "name": "ipython",
    "version": 3
   },
   "file_extension": ".py",
   "mimetype": "text/x-python",
   "name": "python",
   "nbconvert_exporter": "python",
   "pygments_lexer": "ipython3",
   "version": "3.11.3"
  }
 },
 "nbformat": 4,
 "nbformat_minor": 5
}
